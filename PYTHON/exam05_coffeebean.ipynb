{
 "cells": [
  {
   "cell_type": "code",
   "execution_count": 37,
   "id": "307ff049",
   "metadata": {},
   "outputs": [],
   "source": [
    "from selenium import webdriver as wd\n",
    "from bs4 import BeautifulSoup\n",
    "import urllib.request\n",
    "import time"
   ]
  },
  {
   "cell_type": "code",
   "execution_count": null,
   "id": "f6963407",
   "metadata": {},
   "outputs": [
    {
     "name": "stdout",
     "output_type": "stream",
     "text": [
      "CoffeeBean store crawling >>>>>>>>>>>>>>>>>>>>>>>>>\n"
     ]
    },
    {
     "name": "stderr",
     "output_type": "stream",
     "text": [
      "C:\\Users\\admin\\AppData\\Local\\Temp\\ipykernel_644\\1278285742.py:4: DeprecationWarning: executable_path has been deprecated, please pass in a Service object\n",
      "  driver = webdriver.Chrome(path)\n",
      "C:\\Users\\admin\\AppData\\Local\\Temp\\ipykernel_644\\1278285742.py:7: DeprecationWarning: executable_path has been deprecated, please pass in a Service object\n",
      "  driver = wd.Chrome(path, options=options)\n"
     ]
    },
    {
     "name": "stdout",
     "output_type": "stream",
     "text": [
      "학동역 DT점\n",
      "차병원점\n"
     ]
    }
   ],
   "source": [
    "def coffeebean_store(result):\n",
    "    CoffeeBean_URL = \"https://www.coffeebeankorea.com/store/store.asp\"\n",
    "    path = \"C:\\\\Users\\\\admin\\\\Downloads\\\\chromedriver_win32\\\\chromedriver.exe\"\n",
    "    driver = webdriver.Chrome(path)\n",
    "    options = wd.ChromeOptions()\n",
    "    options.add_experimental_option('detach',True)\n",
    "    driver = wd.Chrome(path, options=options)\n",
    "    \n",
    "    for i in range(1,10):\n",
    "        driver.get(CoffeeBean_URL)\n",
    "        time.sleep(2)\n",
    "        try:\n",
    "            driver.execute_script(\"storePop2(%d)\" %i)\n",
    "            time.sleep(2)\n",
    "            html = driver.page_source\n",
    "            soup = BeautifulSoup(html,'html.parser')\n",
    "            store_name_h2 = soup.select('div.store_txt>h2')\n",
    "            store_name = store_name_h2[0].string\n",
    "#             store_name = soup.find_all('p', {'class':'name'})\n",
    "            # 매장이름\n",
    "            print(store_name)\n",
    "        except:\n",
    "            continue\n",
    "    return\n",
    "\n",
    "result = []\n",
    "print('CoffeeBean store crawling >>>>>>>>>>>>>>>>>>>>>>>>>')\n",
    "coffeebean_store(result)"
   ]
  },
  {
   "cell_type": "code",
   "execution_count": null,
   "id": "6410a849",
   "metadata": {},
   "outputs": [],
   "source": []
  },
  {
   "cell_type": "code",
   "execution_count": null,
   "id": "e48bdd2c",
   "metadata": {},
   "outputs": [],
   "source": []
  }
 ],
 "metadata": {
  "kernelspec": {
   "display_name": "Python 3 (ipykernel)",
   "language": "python",
   "name": "python3"
  },
  "language_info": {
   "codemirror_mode": {
    "name": "ipython",
    "version": 3
   },
   "file_extension": ".py",
   "mimetype": "text/x-python",
   "name": "python",
   "nbconvert_exporter": "python",
   "pygments_lexer": "ipython3",
   "version": "3.9.13"
  }
 },
 "nbformat": 4,
 "nbformat_minor": 5
}
