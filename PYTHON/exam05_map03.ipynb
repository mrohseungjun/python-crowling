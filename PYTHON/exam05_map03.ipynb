{
 "cells": [
  {
   "cell_type": "code",
   "execution_count": 3,
   "id": "70f5a270",
   "metadata": {},
   "outputs": [
    {
     "name": "stdout",
     "output_type": "stream",
     "text": [
      "result:[2, 3, 4, 5, 6]\n"
     ]
    }
   ],
   "source": [
    "myList = [1,2,3,4,5]\n",
    "result = []\n",
    "for v in myList:\n",
    "    result.append(v+1)\n",
    "print(f'result:{result}')"
   ]
  },
  {
   "cell_type": "code",
   "execution_count": 4,
   "id": "ba354d23",
   "metadata": {},
   "outputs": [
    {
     "name": "stdout",
     "output_type": "stream",
     "text": [
      "result2:[2, 3, 4, 5, 6]\n"
     ]
    }
   ],
   "source": [
    "# map 함수 이용\n",
    "def add_one(n):\n",
    "    return n+1\n",
    "\n",
    "result2 = list(map(add_one,myList))\n",
    "print(f'result2:{result2}')"
   ]
  },
  {
   "cell_type": "code",
   "execution_count": 15,
   "id": "aa2cf8bf",
   "metadata": {},
   "outputs": [
    {
     "name": "stdout",
     "output_type": "stream",
     "text": [
      "map(int,리스트):[1, 2, 3, 4, 5]\n",
      "map(func_pow,리스트):[1, 32, 243, 1024, 3125]\n",
      "map(math.ceil,리스트):[2, 3, 4, 5, 6]\n"
     ]
    }
   ],
   "source": [
    "import math\n",
    "# 1) 리스트의 값을 정수 타입으로 변환\n",
    "result1 = list(map(int,[1.1,2.2,3.3,4.4,5.5]))\n",
    "print(f'map(int,리스트):{result1}')\n",
    "\n",
    "# 2) 리스트 값 제곱\n",
    "def func_pow(x):\n",
    "    return pow(x,5) # x의 5제곱 ㅏㄴ환\n",
    "result2 = list(map(func_pow,[1,2,3,4,5]))\n",
    "print(f'map(func_pow,리스트):{result2}')\n",
    "# print(f'map(math.ceil,리스트):{rewult3}')\n",
    "      \n",
    "# 리스트 값 소수점 올림\n",
    "result3 = list(map(math.ceil,[1.1,2.2,3.3,4.4,5.5]))\n",
    "print(f'map(math.ceil,리스트):{result3}')\n"
   ]
  },
  {
   "cell_type": "code",
   "execution_count": 19,
   "id": "02f03f2c",
   "metadata": {},
   "outputs": [
    {
     "name": "stdout",
     "output_type": "stream",
     "text": [
      "map(func_mul,리스트:[10, 8, 6, 4, 2])\n",
      "map(람다함수,리스트:[10, 8, 6, 4, 2]\n"
     ]
    }
   ],
   "source": [
    "# map 과 람다\n",
    "def func_mul(x):\n",
    "    return x*2\n",
    "result = list(map(func_mul,[5,4,3,2,1]))\n",
    "print(f'map(func_mul,리스트:{result})')\n",
    "\n",
    "# 람다 함수\n",
    "result2 = list(map(lambda x:x*2,[5,4,3,2,1])) \n",
    "print(f'map(람다함수,리스트:{result2}')\n"
   ]
  },
  {
   "cell_type": "code",
   "execution_count": null,
   "id": "6ba06463",
   "metadata": {},
   "outputs": [],
   "source": []
  }
 ],
 "metadata": {
  "kernelspec": {
   "display_name": "Python 3 (ipykernel)",
   "language": "python",
   "name": "python3"
  },
  "language_info": {
   "codemirror_mode": {
    "name": "ipython",
    "version": 3
   },
   "file_extension": ".py",
   "mimetype": "text/x-python",
   "name": "python",
   "nbconvert_exporter": "python",
   "pygments_lexer": "ipython3",
   "version": "3.9.13"
  }
 },
 "nbformat": 4,
 "nbformat_minor": 5
}
